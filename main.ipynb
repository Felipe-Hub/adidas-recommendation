{
 "cells": [
  {
   "cell_type": "code",
   "execution_count": 9,
   "id": "125f1400",
   "metadata": {},
   "outputs": [],
   "source": [
    "import pandas as pd\n",
    "import numpy as np\n",
    "import pickle\n",
    "\n",
    "from sklearn.feature_extraction.text import TfidfVectorizer\n",
    "from sklearn.metrics.pairwise import linear_kernel\n",
    "from sklearn.decomposition import TruncatedSVD"
   ]
  },
  {
   "cell_type": "markdown",
   "id": "977d6912",
   "metadata": {},
   "source": [
    "#### Opening and Cleaning Data"
   ]
  },
  {
   "cell_type": "code",
   "execution_count": 10,
   "id": "38dbb70c",
   "metadata": {},
   "outputs": [],
   "source": [
    "df = pd.read_csv(\"dummy_data.csv\")\n",
    "# TODO: create a data cleaning step, allowing more flexible data cleaning techniques\n",
    "corpus = df[\"Description\"].dropna().drop_duplicates().to_numpy()"
   ]
  },
  {
   "cell_type": "markdown",
   "id": "d5c96388",
   "metadata": {},
   "source": [
    "#### Preprocessing: Vectorizing Corpus and Query"
   ]
  },
  {
   "cell_type": "code",
   "execution_count": 11,
   "id": "5d4d236d",
   "metadata": {},
   "outputs": [],
   "source": [
    "def vectorize(corpus, refit=False):\n",
    "    \"\"\"\n",
    "    Expects a list of strings to be vectorized into TF-IDF vectors, which are transformed into SVD vectors.\n",
    "    \n",
    "    Parameters:\n",
    "    corpus (list): a list of strings containing the corpus to be vectorized.\n",
    "    refit (bool): if set to True it will refit TfidfVectorizer and TruncatedSVD using the entire corpus. \n",
    "  \n",
    "    Returns:\n",
    "    np.array: the vectorized and transformed vectors\n",
    "    \"\"\"\n",
    "    # TODO: use kwargs to allow parameters customization of TfidfVectorizer and TruncatedSVD\n",
    "    if refit:\n",
    "        vectorizer = TfidfVectorizer(\n",
    "            ngram_range=(1,3),\n",
    "            token_pattern=\"\\w+\", # get only words\n",
    "            sublinear_tf=True, # to normalize vectors   \n",
    "        )\n",
    "        \n",
    "        vectors = vectorizer.fit_transform(corpus).todense()\n",
    "        \n",
    "        svd = TruncatedSVD(n_components = 200) # to speed up similarity calculation\n",
    "        transformed = svd.fit_transform(vectors)\n",
    "        \n",
    "        with open(\"vectorizer.pkl\", \"wb\") as f:\n",
    "            pickle.dump(vectorizer, f)\n",
    "        with open(\"svd.pkl\", \"wb\") as f:\n",
    "            pickle.dump(svd, f)\n",
    "            \n",
    "    else:\n",
    "        with open(\"vectorizer.pkl\", \"rb\") as f:\n",
    "            vectorizer = pickle.load(f)\n",
    "        with open(\"svd.pkl\", \"rb\") as f:\n",
    "            svd = pickle.load(f)\n",
    "            \n",
    "        vectors = vectorizer.transform(corpus).todense()\n",
    "        transformed = svd.transform(vectors)\n",
    "\n",
    "    # TODO: plot singular values to allow best choice of n_components\n",
    "    # TODO: add error handling\n",
    "    return transformed"
   ]
  },
  {
   "cell_type": "markdown",
   "id": "481d6b63",
   "metadata": {},
   "source": [
    "#### Fetch top N similar products"
   ]
  },
  {
   "cell_type": "code",
   "execution_count": 12,
   "id": "61d79e06",
   "metadata": {},
   "outputs": [],
   "source": [
    "def similar_products(corpus, query, vectors, top_n=0):\n",
    "    cosine_similarities = linear_kernel(query, vectors).flatten().argsort()\n",
    "    return corpus[cosine_similarities[-top_n:]]"
   ]
  },
  {
   "cell_type": "markdown",
   "id": "1c691078",
   "metadata": {},
   "source": [
    "#### Run"
   ]
  },
  {
   "cell_type": "code",
   "execution_count": 13,
   "id": "3a9698fc",
   "metadata": {},
   "outputs": [],
   "source": [
    "def run(corpus, query=None, top_n=3):\n",
    "    vectors = vectorize(corpus, refit=True if query is None else False)\n",
    "    if query:\n",
    "        query = vectorize([query])\n",
    "        return similar_products(corpus, query, vectors, top_n=top_n)\n",
    "    else:\n",
    "        return \"Model Updated.\""
   ]
  },
  {
   "cell_type": "markdown",
   "id": "d47c1acf",
   "metadata": {},
   "source": [
    "#### Test"
   ]
  },
  {
   "cell_type": "code",
   "execution_count": 15,
   "id": "be9ccfaf",
   "metadata": {},
   "outputs": [
    {
     "name": "stderr",
     "output_type": "stream",
     "text": [
      "C:\\Users\\felipe.c.rocha\\Anaconda3\\lib\\site-packages\\sklearn\\utils\\validation.py:727: FutureWarning: np.matrix usage is deprecated in 1.0 and will raise a TypeError in 1.2. Please convert to a numpy array with np.asarray. For more information see: https://numpy.org/doc/stable/reference/generated/numpy.matrix.html\n",
      "  warnings.warn(\n"
     ]
    },
    {
     "data": {
      "text/plain": [
       "'Model Updated.'"
      ]
     },
     "execution_count": 15,
     "metadata": {},
     "output_type": "execute_result"
    }
   ],
   "source": [
    "query = 'FULL ENGLISH BREAKFAST PLATE'\n",
    "\n",
    "run(corpus)"
   ]
  },
  {
   "cell_type": "code",
   "execution_count": null,
   "id": "1f2aa0ca",
   "metadata": {},
   "outputs": [],
   "source": []
  },
  {
   "cell_type": "code",
   "execution_count": null,
   "id": "3b4022c9",
   "metadata": {},
   "outputs": [],
   "source": []
  },
  {
   "cell_type": "code",
   "execution_count": null,
   "id": "8a562e0b",
   "metadata": {},
   "outputs": [],
   "source": []
  },
  {
   "cell_type": "code",
   "execution_count": null,
   "id": "6405d03e",
   "metadata": {},
   "outputs": [],
   "source": [
    "import os\n",
    "import warnings\n",
    "import sys\n",
    "\n",
    "import pandas as pd\n",
    "import numpy as np\n",
    "from urllib.parse import urlparse\n",
    "import mlflow\n",
    "import mlflow.sklearn\n",
    "\n",
    "import logging\n",
    "\n",
    "logging.basicConfig(level=logging.WARN)\n",
    "logger = logging.getLogger(__name__)\n",
    "\n",
    "\n",
    "def eval_metrics(actual, pred):\n",
    "    # evaluate model with ranking metrics\n",
    "    return\n",
    "\n",
    "\n",
    "if __name__ == \"__main__\":\n",
    "    warnings.filterwarnings(\"ignore\")\n",
    "    np.random.seed(42)\n",
    "\n",
    "    # Read file from the URL\n",
    "    csv_url = (\n",
    "        \"https://raw.githubusercontent.com/mlflow/mlflow/master/tests/data/winequality-red.csv\"\n",
    "    )\n",
    "    try:\n",
    "        data = pd.read_csv(csv_url, sep=\";\")\n",
    "    except Exception as e:\n",
    "        logger.exception(\n",
    "            \"Unable to download training & test CSV, check your internet connection. Error: %s\", e\n",
    "        )\n",
    "\n",
    "    # Split the data into training and test sets. (0.75, 0.25) split.\n",
    "    train, test = train_test_split(data)\n",
    "\n",
    "    # The predicted column is \"quality\" which is a scalar from [3, 9]\n",
    "    train_x = train.drop([\"quality\"], axis=1)\n",
    "    test_x = test.drop([\"quality\"], axis=1)\n",
    "    train_y = train[[\"quality\"]]\n",
    "    test_y = test[[\"quality\"]]\n",
    "\n",
    "    alpha = float(sys.argv[1]) if len(sys.argv) > 1 else 0.5\n",
    "    l1_ratio = float(sys.argv[2]) if len(sys.argv) > 2 else 0.5\n",
    "\n",
    "    with mlflow.start_run():\n",
    "        lr = ElasticNet(alpha=alpha, l1_ratio=l1_ratio, random_state=42)\n",
    "        lr.fit(train_x, train_y)\n",
    "\n",
    "        predicted_qualities = lr.predict(test_x)\n",
    "\n",
    "        (rmse, mae, r2) = eval_metrics(test_y, predicted_qualities)\n",
    "\n",
    "        print(\"Elasticnet model (alpha={:f}, l1_ratio={:f}):\".format(alpha, l1_ratio))\n",
    "        print(\"  RMSE: %s\" % rmse)\n",
    "        print(\"  MAE: %s\" % mae)\n",
    "        print(\"  R2: %s\" % r2)\n",
    "\n",
    "        mlflow.log_param(\"alpha\", alpha)\n",
    "        mlflow.log_param(\"l1_ratio\", l1_ratio)\n",
    "        mlflow.log_metric(\"rmse\", rmse)\n",
    "        mlflow.log_metric(\"r2\", r2)\n",
    "        mlflow.log_metric(\"mae\", mae)\n",
    "\n",
    "        tracking_url_type_store = urlparse(mlflow.get_tracking_uri()).scheme\n",
    "\n",
    "        # Model registry does not work with file store\n",
    "        if tracking_url_type_store != \"file\":\n",
    "\n",
    "            # Register the model\n",
    "            # There are other ways to use the Model Registry, which depends on the use case,\n",
    "            # please refer to the doc for more information:\n",
    "            # https://mlflow.org/docs/latest/model-registry.html#api-workflow\n",
    "            mlflow.sklearn.log_model(lr, \"model\", registered_model_name=\"ElasticnetWineModel\")\n",
    "        else:\n",
    "            mlflow.sklearn.log_model(lr, \"model\")"
   ]
  }
 ],
 "metadata": {
  "kernelspec": {
   "display_name": "Python 3",
   "language": "python",
   "name": "python3"
  },
  "language_info": {
   "codemirror_mode": {
    "name": "ipython",
    "version": 3
   },
   "file_extension": ".py",
   "mimetype": "text/x-python",
   "name": "python",
   "nbconvert_exporter": "python",
   "pygments_lexer": "ipython3",
   "version": "3.8.8"
  }
 },
 "nbformat": 4,
 "nbformat_minor": 5
}
